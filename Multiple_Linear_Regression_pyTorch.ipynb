{
  "cells": [
    {
      "cell_type": "markdown",
      "metadata": {
        "id": "view-in-github",
        "colab_type": "text"
      },
      "source": [
        "<a href=\"https://colab.research.google.com/github/Pakhi27/Multiple-Linear-Regression-Training-pyTorch/blob/main/Multiple_Linear_Regression_pyTorch.ipynb\" target=\"_parent\"><img src=\"https://colab.research.google.com/assets/colab-badge.svg\" alt=\"Open In Colab\"/></a>"
      ]
    },
    {
      "cell_type": "code",
      "execution_count": null,
      "metadata": {
        "colab": {
          "base_uri": "https://localhost:8080/"
        },
        "id": "Bn4zO9-OWJeM",
        "outputId": "ffa6713d-fc29-4176-b532-48bf3c8125cb"
      },
      "outputs": [
        {
          "data": {
            "text/plain": [
              "<torch._C.Generator at 0x78c18afb0330>"
            ]
          },
          "execution_count": 1,
          "metadata": {},
          "output_type": "execute_result"
        }
      ],
      "source": [
        "# Import the libraries and set the random seed\n",
        "\n",
        "from torch import nn\n",
        "import torch\n",
        "torch.manual_seed(1)"
      ]
    },
    {
      "cell_type": "code",
      "execution_count": null,
      "metadata": {
        "id": "W02-0nd4WWBk"
      },
      "outputs": [],
      "source": [
        "# Set the weight and bias\n",
        "\n",
        "w = torch.tensor([[2.0], [3.0]], requires_grad=True)\n",
        "b = torch.tensor([[1.0]], requires_grad=True)"
      ]
    },
    {
      "cell_type": "code",
      "execution_count": null,
      "metadata": {
        "id": "GLtvdobcWYje"
      },
      "outputs": [],
      "source": [
        "# Define the parameters. torch.mm uses matrix multiplication instead of scaler multiplication.\n",
        "# Define Prediction Function\n",
        "\n",
        "def forward(x):\n",
        "    yhat = torch.mm(x, w) + b\n",
        "    return yhat"
      ]
    },
    {
      "cell_type": "code",
      "execution_count": null,
      "metadata": {
        "colab": {
          "base_uri": "https://localhost:8080/"
        },
        "id": "N0ikCpVVWjXy",
        "outputId": "8bd827fe-684d-4bb9-9de9-d487332086c6"
      },
      "outputs": [
        {
          "name": "stdout",
          "output_type": "stream",
          "text": [
            "The result:  tensor([[9.]], grad_fn=<AddBackward0>)\n"
          ]
        }
      ],
      "source": [
        "# Calculate yhat\n",
        "\n",
        "x = torch.tensor([[1.0, 2.0]])\n",
        "yhat = forward(x)\n",
        "print(\"The result: \", yhat)"
      ]
    },
    {
      "cell_type": "code",
      "execution_count": null,
      "metadata": {
        "id": "SDRhwcckW1XO"
      },
      "outputs": [],
      "source": [
        "# Each row of the following tensor represents a sample:"
      ]
    },
    {
      "cell_type": "code",
      "execution_count": null,
      "metadata": {
        "id": "U_ft9GsxXIfs"
      },
      "outputs": [],
      "source": [
        "# Sample tensor X\n",
        "\n",
        "X = torch.tensor([[1.0, 1.0], [1.0, 2.0], [1.0, 3.0]])"
      ]
    },
    {
      "cell_type": "code",
      "execution_count": null,
      "metadata": {
        "colab": {
          "base_uri": "https://localhost:8080/"
        },
        "id": "9E1VU2joXMkd",
        "outputId": "8b29cf26-eb71-4ef5-9018-4bf403d5be2e"
      },
      "outputs": [
        {
          "name": "stdout",
          "output_type": "stream",
          "text": [
            "The result:  tensor([[ 6.],\n",
            "        [ 9.],\n",
            "        [12.]], grad_fn=<AddBackward0>)\n"
          ]
        }
      ],
      "source": [
        "# Make the prediction of X\n",
        "\n",
        "yhat = forward(X)\n",
        "print(\"The result: \", yhat)"
      ]
    },
    {
      "cell_type": "code",
      "execution_count": null,
      "metadata": {
        "id": "E0W3-JizXSFU"
      },
      "outputs": [],
      "source": [
        "# Class Linear-We can use the linear class to make a prediction."
      ]
    },
    {
      "cell_type": "code",
      "execution_count": null,
      "metadata": {
        "id": "-tWmjd12XUwP"
      },
      "outputs": [],
      "source": [
        "# Make a linear regression model using build-in function\n",
        "\n",
        "model = nn.Linear(2, 1)"
      ]
    },
    {
      "cell_type": "code",
      "execution_count": null,
      "metadata": {
        "colab": {
          "base_uri": "https://localhost:8080/"
        },
        "id": "JXZ9LFEEXYOe",
        "outputId": "71caa675-642c-440a-fc7d-0ec16a8ee788"
      },
      "outputs": [
        {
          "name": "stdout",
          "output_type": "stream",
          "text": [
            "The result:  tensor([[-0.3969]], grad_fn=<AddmmBackward0>)\n"
          ]
        }
      ],
      "source": [
        "# Make a prediction of x\n",
        "\n",
        "yhat = model(x)\n",
        "print(\"The result: \", yhat)"
      ]
    },
    {
      "cell_type": "code",
      "execution_count": null,
      "metadata": {
        "colab": {
          "base_uri": "https://localhost:8080/"
        },
        "id": "lL0eyGrTXcSG",
        "outputId": "9e4d2901-0033-4cf9-80f5-a595193aac1f"
      },
      "outputs": [
        {
          "name": "stdout",
          "output_type": "stream",
          "text": [
            "The result:  tensor([[-0.0848],\n",
            "        [-0.3969],\n",
            "        [-0.7090]], grad_fn=<AddmmBackward0>)\n"
          ]
        }
      ],
      "source": [
        "# Predict with multiple samples X:\n",
        "# Make a prediction of X\n",
        "\n",
        "yhat = model(X)\n",
        "print(\"The result: \", yhat)"
      ]
    },
    {
      "cell_type": "code",
      "execution_count": null,
      "metadata": {
        "id": "hg4pNUh3Xiij"
      },
      "outputs": [],
      "source": [
        "# Build Custom Modules"
      ]
    },
    {
      "cell_type": "code",
      "execution_count": null,
      "metadata": {
        "id": "kgEI4BwyXjlZ"
      },
      "outputs": [],
      "source": [
        "# Create linear_regression Class\n",
        "\n",
        "class linear_regression(nn.Module):\n",
        "\n",
        "    # Constructor\n",
        "    def __init__(self, input_size, output_size):\n",
        "        super(linear_regression, self).__init__()\n",
        "        self.linear = nn.Linear(input_size, output_size)\n",
        "\n",
        "    # Prediction function\n",
        "    def forward(self, x):\n",
        "        yhat = self.linear(x)\n",
        "        return yhat"
      ]
    },
    {
      "cell_type": "code",
      "execution_count": null,
      "metadata": {
        "id": "XYwirKSbXme_"
      },
      "outputs": [],
      "source": [
        "model = linear_regression(2, 1)\n",
        "#w-2 columns,b-1"
      ]
    },
    {
      "cell_type": "code",
      "execution_count": null,
      "metadata": {
        "colab": {
          "base_uri": "https://localhost:8080/"
        },
        "id": "X_u7NlbiXqZS",
        "outputId": "9f1c2719-1077-4223-9c1c-f31abeea5869"
      },
      "outputs": [
        {
          "name": "stdout",
          "output_type": "stream",
          "text": [
            "The parameters:  [Parameter containing:\n",
            "tensor([[ 0.3319, -0.6657]], requires_grad=True), Parameter containing:\n",
            "tensor([0.4241], requires_grad=True)]\n"
          ]
        }
      ],
      "source": [
        "# Print model parameters\n",
        "\n",
        "print(\"The parameters: \", list(model.parameters()))"
      ]
    },
    {
      "cell_type": "code",
      "execution_count": null,
      "metadata": {
        "colab": {
          "base_uri": "https://localhost:8080/"
        },
        "id": "XXwlZwDgXtnW",
        "outputId": "06499b4c-1621-433d-94a3-d882db877cc2"
      },
      "outputs": [
        {
          "name": "stdout",
          "output_type": "stream",
          "text": [
            "The parameters:  OrderedDict([('linear.weight', tensor([[ 0.3319, -0.6657]])), ('linear.bias', tensor([0.4241]))])\n"
          ]
        }
      ],
      "source": [
        "# Print model parameters\n",
        "\n",
        "print(\"The parameters: \", model.state_dict())"
      ]
    },
    {
      "cell_type": "code",
      "execution_count": null,
      "metadata": {
        "id": "IpsZRnCoXxt5"
      },
      "outputs": [],
      "source": [
        "# Now we input a 1x2 tensor, and we will get a 1x1 tensor."
      ]
    },
    {
      "cell_type": "code",
      "execution_count": null,
      "metadata": {
        "colab": {
          "base_uri": "https://localhost:8080/"
        },
        "id": "-YKTk56ZXzX0",
        "outputId": "afb16d69-2354-46e0-ed7f-19af8ed8e128"
      },
      "outputs": [
        {
          "name": "stdout",
          "output_type": "stream",
          "text": [
            "The result:  tensor([[-0.5754]], grad_fn=<AddmmBackward0>)\n"
          ]
        }
      ],
      "source": [
        "# Make a prediction of x\n",
        "\n",
        "yhat = model(x)\n",
        "print(\"The result: \", yhat)"
      ]
    },
    {
      "cell_type": "code",
      "execution_count": null,
      "metadata": {
        "colab": {
          "base_uri": "https://localhost:8080/"
        },
        "id": "uLUh4wFOX3KE",
        "outputId": "5d3bbd5d-e6e1-4b66-ca8a-dc83f4770fdf"
      },
      "outputs": [
        {
          "name": "stdout",
          "output_type": "stream",
          "text": [
            "The result:  tensor([[ 0.0903],\n",
            "        [-0.5754],\n",
            "        [-1.2411]], grad_fn=<AddmmBackward0>)\n"
          ]
        }
      ],
      "source": [
        "# Make a prediction of X-for multiple samples(X)\n",
        "\n",
        "yhat = model(X)\n",
        "print(\"The result: \", yhat)"
      ]
    },
    {
      "cell_type": "code",
      "execution_count": null,
      "metadata": {
        "id": "BT1WZDXXX-P3"
      },
      "outputs": [],
      "source": [
        "# Practice"
      ]
    },
    {
      "cell_type": "code",
      "execution_count": null,
      "metadata": {
        "id": "1AwMCWGsX_e_"
      },
      "outputs": [],
      "source": [
        "# Practice: Build a model to predict the follow tensor.\n",
        "\n",
        "X = torch.tensor([[11.0, 12.0, 13, 14], [11, 12, 13, 14]])\n",
        "w = torch.tensor([[2.0], [3.0],[4.0],[5.0]], requires_grad=True)"
      ]
    },
    {
      "cell_type": "code",
      "execution_count": null,
      "metadata": {
        "id": "6XL0kOXlYl69"
      },
      "outputs": [],
      "source": [
        "\n",
        "def forward(x):\n",
        "    yhat = torch.mm(x, w) + b\n",
        "    return yhat"
      ]
    },
    {
      "cell_type": "code",
      "execution_count": null,
      "metadata": {
        "colab": {
          "base_uri": "https://localhost:8080/"
        },
        "id": "BUWt5FbeYCmV",
        "outputId": "2523de18-1202-468e-cb83-4750efbc745f"
      },
      "outputs": [
        {
          "name": "stdout",
          "output_type": "stream",
          "text": [
            "The result:  tensor([[181.],\n",
            "        [181.]], grad_fn=<AddBackward0>)\n"
          ]
        }
      ],
      "source": [
        "yhat = forward(X)\n",
        "print(\"The result: \", yhat)"
      ]
    },
    {
      "cell_type": "code",
      "execution_count": null,
      "metadata": {
        "id": "dlqW-zycbOqp"
      },
      "outputs": [],
      "source": [
        "# MLR-training"
      ]
    },
    {
      "cell_type": "code",
      "execution_count": null,
      "metadata": {
        "id": "jPxvDJl9aw0S"
      },
      "outputs": [],
      "source": [
        "from torch import nn,optim\n",
        "import torch\n",
        "import numpy as np\n",
        "import matplotlib.pyplot as plt\n",
        "\n",
        "from mpl_toolkits.mplot3d import Axes3D\n",
        "from torch.utils.data import Dataset, DataLoader"
      ]
    },
    {
      "cell_type": "code",
      "execution_count": null,
      "metadata": {
        "id": "HIj2ldLdbXmT"
      },
      "outputs": [],
      "source": [
        "# Create a 2D dataset\n",
        "\n",
        "class Data2D(Dataset):\n",
        "\n",
        "    # Constructor\n",
        "    def __init__(self):\n",
        "        self.x = torch.zeros(20, 2)\n",
        "        self.x[:, 0] = torch.arange(-1, 1, 0.1)\n",
        "        self.x[:, 1] = torch.arange(-1, 1, 0.1)\n",
        "        self.w = torch.tensor([[1.0], [1.0]])\n",
        "        self.b = 1\n",
        "        self.f = torch.mm(self.x, self.w) + self.b\n",
        "        self.y = self.f + 0.1 * torch.randn((self.x.shape[0],1))\n",
        "        self.len = self.x.shape[0]\n",
        "\n",
        "    # Getter\n",
        "    def __getitem__(self, index):\n",
        "        return self.x[index], self.y[index]\n",
        "\n",
        "    # Get Length\n",
        "    def __len__(self):\n",
        "        return self.len"
      ]
    },
    {
      "cell_type": "code",
      "execution_count": null,
      "metadata": {
        "id": "Rhh7tu7dba-Q"
      },
      "outputs": [],
      "source": [
        "\n",
        "data_set = Data2D()"
      ]
    },
    {
      "cell_type": "code",
      "execution_count": null,
      "metadata": {
        "id": "8tSXVowfbd6H"
      },
      "outputs": [],
      "source": [
        "# Create the Model, Optimizer, and Total Loss Function (Cost)"
      ]
    },
    {
      "cell_type": "code",
      "execution_count": null,
      "metadata": {
        "id": "YASra3jpbeuK"
      },
      "outputs": [],
      "source": [
        "# Create a customized linear\n",
        "\n",
        "class linear_regression(nn.Module):\n",
        "\n",
        "    # Constructor\n",
        "    def __init__(self, input_size, output_size):\n",
        "        super(linear_regression, self).__init__()\n",
        "        self.linear = nn.Linear(input_size, output_size)\n",
        "\n",
        "    # Prediction\n",
        "    def forward(self, x):\n",
        "        yhat = self.linear(x)\n",
        "        return yhat"
      ]
    },
    {
      "cell_type": "code",
      "execution_count": null,
      "metadata": {
        "id": "mx7sTf_Cbkuw"
      },
      "outputs": [],
      "source": [
        "# Create a model. Use two features: make the input size 2 and the output size 1:"
      ]
    },
    {
      "cell_type": "code",
      "execution_count": null,
      "metadata": {
        "colab": {
          "base_uri": "https://localhost:8080/"
        },
        "id": "nVMjtCxxblkX",
        "outputId": "1cdb11ea-045b-43a9-c63b-ae4a52d5e0bd"
      },
      "outputs": [
        {
          "name": "stdout",
          "output_type": "stream",
          "text": [
            "The parameters:  [Parameter containing:\n",
            "tensor([[0.5303, 0.0084]], requires_grad=True), Parameter containing:\n",
            "tensor([-0.3725], requires_grad=True)]\n"
          ]
        }
      ],
      "source": [
        "# Create the linear regression model and print the parameters\n",
        "\n",
        "model = linear_regression(2,1)\n",
        "print(\"The parameters: \", list(model.parameters()))"
      ]
    },
    {
      "cell_type": "code",
      "execution_count": null,
      "metadata": {
        "id": "34OUajP8bne8"
      },
      "outputs": [],
      "source": [
        "# Create the optimizer\n",
        "\n",
        "optimizer = optim.SGD(model.parameters(), lr=0.1)"
      ]
    },
    {
      "cell_type": "code",
      "execution_count": null,
      "metadata": {
        "id": "CDevenirbubo"
      },
      "outputs": [],
      "source": [
        "# Create the cost function\n",
        "\n",
        "criterion = nn.MSELoss()"
      ]
    },
    {
      "cell_type": "code",
      "execution_count": null,
      "metadata": {
        "id": "bhiG3Kpnbx9u"
      },
      "outputs": [],
      "source": [
        "# Create the data loader\n",
        "\n",
        "train_loader = DataLoader(dataset=data_set, batch_size=2)"
      ]
    },
    {
      "cell_type": "code",
      "execution_count": null,
      "metadata": {
        "id": "40Db6NsNdS2n"
      },
      "outputs": [],
      "source": [
        "# The function for plotting 2D-Use this function for plotting:\n",
        "\n",
        "def Plot_2D_Plane(model, dataset, n=0):\n",
        "    w1 = model.state_dict()['linear.weight'].numpy()[0][0]\n",
        "    w2 = model.state_dict()['linear.weight'].numpy()[0][1]\n",
        "    b = model.state_dict()['linear.bias'].numpy()\n",
        "\n",
        "    # Data\n",
        "    x1 = data_set.x[:, 0].view(-1, 1).numpy()\n",
        "    x2 = data_set.x[:, 1].view(-1, 1).numpy()\n",
        "    y = data_set.y.numpy()\n",
        "\n",
        "    # Make plane\n",
        "    X, Y = np.meshgrid(np.arange(x1.min(), x1.max(), 0.05), np.arange(x2.min(), x2.max(), 0.05))\n",
        "    yhat = w1 * X + w2 * Y + b\n",
        "\n",
        "    # Plotting\n",
        "    fig = plt.figure()\n",
        "    ax = fig.gca(projection='3d')\n",
        "\n",
        "    ax.plot(x1[:, 0], x2[:, 0], y[:, 0],'ro', label='y') # Scatter plot\n",
        "\n",
        "    ax.plot_surface(X, Y, yhat) # Plane plot\n",
        "\n",
        "    ax.set_xlabel('x1 ')\n",
        "    ax.set_ylabel('x2 ')\n",
        "    ax.set_zlabel('y')\n",
        "    plt.title('estimated plane iteration:' + str(n))\n",
        "    ax.legend()\n",
        "\n",
        "    plt.show()"
      ]
    },
    {
      "cell_type": "code",
      "execution_count": null,
      "metadata": {
        "id": "DVLJtqVqb39x"
      },
      "outputs": [],
      "source": [
        "# rain the Model via Mini-Batch Gradient Descent¶"
      ]
    },
    {
      "cell_type": "code",
      "execution_count": null,
      "metadata": {
        "id": "IyP4XBfMb4uR"
      },
      "outputs": [],
      "source": [
        "# Run 100 epochs of Mini-Batch Gradient Descent and store the total loss or cost for every iteration"
      ]
    },
    {
      "cell_type": "code",
      "execution_count": null,
      "metadata": {
        "colab": {
          "base_uri": "https://localhost:8080/",
          "height": 367
        },
        "id": "cSaPXGCTb7Zo",
        "outputId": "8b97afdc-f2d3-4c62-d48b-20d02de7b9cb"
      },
      "outputs": [
        {
          "name": "stdout",
          "output_type": "stream",
          "text": [
            "Before Training: \n"
          ]
        },
        {
          "ename": "TypeError",
          "evalue": "FigureBase.gca() got an unexpected keyword argument 'projection'",
          "output_type": "error",
          "traceback": [
            "\u001b[0;31m---------------------------------------------------------------------------\u001b[0m",
            "\u001b[0;31mTypeError\u001b[0m                                 Traceback (most recent call last)",
            "\u001b[0;32m<ipython-input-37-22eca19ecca8>\u001b[0m in \u001b[0;36m<cell line: 5>\u001b[0;34m()\u001b[0m\n\u001b[1;32m      3\u001b[0m \u001b[0mLOSS\u001b[0m \u001b[0;34m=\u001b[0m \u001b[0;34m[\u001b[0m\u001b[0;34m]\u001b[0m\u001b[0;34m\u001b[0m\u001b[0;34m\u001b[0m\u001b[0m\n\u001b[1;32m      4\u001b[0m \u001b[0mprint\u001b[0m\u001b[0;34m(\u001b[0m\u001b[0;34m\"Before Training: \"\u001b[0m\u001b[0;34m)\u001b[0m\u001b[0;34m\u001b[0m\u001b[0;34m\u001b[0m\u001b[0m\n\u001b[0;32m----> 5\u001b[0;31m \u001b[0mPlot_2D_Plane\u001b[0m\u001b[0;34m(\u001b[0m\u001b[0mmodel\u001b[0m\u001b[0;34m,\u001b[0m \u001b[0mdata_set\u001b[0m\u001b[0;34m)\u001b[0m\u001b[0;34m\u001b[0m\u001b[0;34m\u001b[0m\u001b[0m\n\u001b[0m\u001b[1;32m      6\u001b[0m \u001b[0mepochs\u001b[0m \u001b[0;34m=\u001b[0m \u001b[0;36m100\u001b[0m\u001b[0;34m\u001b[0m\u001b[0;34m\u001b[0m\u001b[0m\n\u001b[1;32m      7\u001b[0m \u001b[0;34m\u001b[0m\u001b[0m\n",
            "\u001b[0;32m<ipython-input-36-fcd03ec22f6e>\u001b[0m in \u001b[0;36mPlot_2D_Plane\u001b[0;34m(model, dataset, n)\u001b[0m\n\u001b[1;32m     17\u001b[0m     \u001b[0;31m# Plotting\u001b[0m\u001b[0;34m\u001b[0m\u001b[0;34m\u001b[0m\u001b[0m\n\u001b[1;32m     18\u001b[0m     \u001b[0mfig\u001b[0m \u001b[0;34m=\u001b[0m \u001b[0mplt\u001b[0m\u001b[0;34m.\u001b[0m\u001b[0mfigure\u001b[0m\u001b[0;34m(\u001b[0m\u001b[0;34m)\u001b[0m\u001b[0;34m\u001b[0m\u001b[0;34m\u001b[0m\u001b[0m\n\u001b[0;32m---> 19\u001b[0;31m     \u001b[0max\u001b[0m \u001b[0;34m=\u001b[0m \u001b[0mfig\u001b[0m\u001b[0;34m.\u001b[0m\u001b[0mgca\u001b[0m\u001b[0;34m(\u001b[0m\u001b[0mprojection\u001b[0m\u001b[0;34m=\u001b[0m\u001b[0;34m'3d'\u001b[0m\u001b[0;34m)\u001b[0m\u001b[0;34m\u001b[0m\u001b[0;34m\u001b[0m\u001b[0m\n\u001b[0m\u001b[1;32m     20\u001b[0m \u001b[0;34m\u001b[0m\u001b[0m\n\u001b[1;32m     21\u001b[0m     \u001b[0max\u001b[0m\u001b[0;34m.\u001b[0m\u001b[0mplot\u001b[0m\u001b[0;34m(\u001b[0m\u001b[0mx1\u001b[0m\u001b[0;34m[\u001b[0m\u001b[0;34m:\u001b[0m\u001b[0;34m,\u001b[0m \u001b[0;36m0\u001b[0m\u001b[0;34m]\u001b[0m\u001b[0;34m,\u001b[0m \u001b[0mx2\u001b[0m\u001b[0;34m[\u001b[0m\u001b[0;34m:\u001b[0m\u001b[0;34m,\u001b[0m \u001b[0;36m0\u001b[0m\u001b[0;34m]\u001b[0m\u001b[0;34m,\u001b[0m \u001b[0my\u001b[0m\u001b[0;34m[\u001b[0m\u001b[0;34m:\u001b[0m\u001b[0;34m,\u001b[0m \u001b[0;36m0\u001b[0m\u001b[0;34m]\u001b[0m\u001b[0;34m,\u001b[0m\u001b[0;34m'ro'\u001b[0m\u001b[0;34m,\u001b[0m \u001b[0mlabel\u001b[0m\u001b[0;34m=\u001b[0m\u001b[0;34m'y'\u001b[0m\u001b[0;34m)\u001b[0m \u001b[0;31m# Scatter plot\u001b[0m\u001b[0;34m\u001b[0m\u001b[0;34m\u001b[0m\u001b[0m\n",
            "\u001b[0;31mTypeError\u001b[0m: FigureBase.gca() got an unexpected keyword argument 'projection'"
          ]
        },
        {
          "data": {
            "text/plain": [
              "<Figure size 640x480 with 0 Axes>"
            ]
          },
          "metadata": {},
          "output_type": "display_data"
        }
      ],
      "source": [
        "# Train the model\n",
        "\n",
        "LOSS = []\n",
        "print(\"Before Training: \")\n",
        "Plot_2D_Plane(model, data_set)\n",
        "epochs = 100\n",
        "\n",
        "def train_model(epochs):\n",
        "    for epoch in range(epochs):\n",
        "        for x,y in train_loader:\n",
        "            yhat = model(x)\n",
        "            loss = criterion(yhat, y)\n",
        "            LOSS.append(loss.item())\n",
        "            optimizer.zero_grad()\n",
        "            loss.backward()\n",
        "            optimizer.step()\n",
        "train_model(epochs)\n",
        "print(\"After Training: \")\n",
        "Plot_2D_Plane(model, data_set, epochs)"
      ]
    },
    {
      "cell_type": "code",
      "execution_count": null,
      "metadata": {
        "colab": {
          "base_uri": "https://localhost:8080/",
          "height": 466
        },
        "id": "sQOXCNW_b9tc",
        "outputId": "51d553c8-7e79-4183-8b03-1f1d44f72c38"
      },
      "outputs": [
        {
          "data": {
            "text/plain": [
              "Text(0, 0.5, 'Cost/total loss ')"
            ]
          },
          "execution_count": 38,
          "metadata": {},
          "output_type": "execute_result"
        },
        {
          "data": {
            "image/png": "[encoded data removed]",
            "text/plain": [
              "<Figure size 640x480 with 1 Axes>"
            ]
          },
          "metadata": {},
          "output_type": "display_data"
        }
      ],
      "source": [
        "# Plot out the Loss and iteration diagram\n",
        "plt.plot(LOSS)\n",
        "plt.xlabel(\"Iterations \")\n",
        "plt.ylabel(\"Cost/total loss \")"
      ]
    },
    {
      "cell_type": "code",
      "execution_count": null,
      "metadata": {
        "id": "2zvw8n4BiPBE"
      },
      "outputs": [],
      "source": [
        "from torch import nn\n",
        "import torch"
      ]
    },
    {
      "cell_type": "code",
      "execution_count": null,
      "metadata": {
        "colab": {
          "base_uri": "https://localhost:8080/"
        },
        "id": "wISM2MfqiQGA",
        "outputId": "74219c6a-ac95-4621-8f60-4c31eee10710"
      },
      "outputs": [
        {
          "data": {
            "text/plain": [
              "<torch._C.Generator at 0x78c18afb0330>"
            ]
          },
          "execution_count": 40,
          "metadata": {},
          "output_type": "execute_result"
        }
      ],
      "source": [
        "torch.manual_seed(1)"
      ]
    },
    {
      "cell_type": "code",
      "execution_count": null,
      "metadata": {
        "id": "Et0bIj6XiTpI"
      },
      "outputs": [],
      "source": [
        "# set the random seed\n",
        "class linear_regression(nn.Module):\n",
        "    def __init__(self,input_size,output_size):\n",
        "        super(linear_regression,self).__init__()\n",
        "        self.linear=nn.Linear(input_size,output_size)\n",
        "    def forward(self,x):\n",
        "        yhat=self.linear(x)\n",
        "        return yhat"
      ]
    },
    {
      "cell_type": "code",
      "execution_count": null,
      "metadata": {
        "id": "xYsGadVziXzl"
      },
      "outputs": [],
      "source": [
        "# create a linear regression object, as our input and output will be two we set the parameters accordingly"
      ]
    },
    {
      "cell_type": "code",
      "execution_count": null,
      "metadata": {
        "colab": {
          "base_uri": "https://localhost:8080/"
        },
        "id": "SFbv3N42ifRq",
        "outputId": "cf350bef-1648-49fb-c746-830e0328703a"
      },
      "outputs": [
        {
          "data": {
            "text/plain": [
              "tensor([ 0.7926, -0.3920,  0.1714,  0.0797, -1.0143,  0.5097, -0.0608,  0.5047,\n",
              "         1.0132,  0.1887], grad_fn=<ViewBackward0>)"
            ]
          },
          "execution_count": 42,
          "metadata": {},
          "output_type": "execute_result"
        }
      ],
      "source": [
        "# 1 input feature and 10 predictions..\n",
        "model=linear_regression(1,10)\n",
        "model(torch.tensor([1.0]))"
      ]
    },
    {
      "cell_type": "code",
      "execution_count": null,
      "metadata": {
        "colab": {
          "base_uri": "https://localhost:8080/"
        },
        "id": "uKe65Tp2ij9D",
        "outputId": "8915008b-1863-4035-e370-58c6c189122c"
      },
      "outputs": [
        {
          "data": {
            "text/plain": [
              "[Parameter containing:\n",
              " tensor([[ 0.5153],\n",
              "         [-0.4414],\n",
              "         [-0.1939],\n",
              "         [ 0.4694],\n",
              "         [-0.9414],\n",
              "         [ 0.5997],\n",
              "         [-0.2057],\n",
              "         [ 0.5087],\n",
              "         [ 0.1390],\n",
              "         [-0.1224]], requires_grad=True),\n",
              " Parameter containing:\n",
              " tensor([ 0.2774,  0.0493,  0.3652, -0.3897, -0.0729, -0.0900,  0.1449, -0.0040,\n",
              "          0.8742,  0.3112], requires_grad=True)]"
            ]
          },
          "execution_count": 43,
          "metadata": {},
          "output_type": "execute_result"
        }
      ],
      "source": [
        "list(model.parameters())"
      ]
    },
    {
      "cell_type": "code",
      "execution_count": null,
      "metadata": {
        "id": "12ClQhEdiqjs"
      },
      "outputs": [],
      "source": [
        "x=torch.tensor([[1.0]])"
      ]
    },
    {
      "cell_type": "code",
      "execution_count": null,
      "metadata": {
        "colab": {
          "base_uri": "https://localhost:8080/"
        },
        "id": "D3_AqyEOitI6",
        "outputId": "f7070e94-90de-445a-d558-5c4e791bdccf"
      },
      "outputs": [
        {
          "data": {
            "text/plain": [
              "tensor([[ 0.7926, -0.3920,  0.1714,  0.0797, -1.0143,  0.5097, -0.0608,  0.5047,\n",
              "          1.0132,  0.1887]], grad_fn=<AddmmBackward0>)"
            ]
          },
          "execution_count": 45,
          "metadata": {},
          "output_type": "execute_result"
        }
      ],
      "source": [
        "yhat=model(x)\n",
        "yhat"
      ]
    },
    {
      "cell_type": "code",
      "execution_count": null,
      "metadata": {
        "id": "b8VX4hUBiyBD"
      },
      "outputs": [],
      "source": [
        "# each row in the following tensor represents a different sample"
      ]
    },
    {
      "cell_type": "code",
      "execution_count": null,
      "metadata": {
        "id": "pxf7s0Fyiyxy"
      },
      "outputs": [],
      "source": [
        "X=torch.tensor([[1.0],[1.0],[3.0]])"
      ]
    },
    {
      "cell_type": "code",
      "execution_count": null,
      "metadata": {
        "colab": {
          "base_uri": "https://localhost:8080/"
        },
        "id": "IDJ2y8Ybi0if",
        "outputId": "430655dc-0b79-46ee-a0a3-c751677c9675"
      },
      "outputs": [
        {
          "data": {
            "text/plain": [
              "tensor([[ 0.7926, -0.3920,  0.1714,  0.0797, -1.0143,  0.5097, -0.0608,  0.5047,\n",
              "          1.0132,  0.1887],\n",
              "        [ 0.7926, -0.3920,  0.1714,  0.0797, -1.0143,  0.5097, -0.0608,  0.5047,\n",
              "          1.0132,  0.1887],\n",
              "        [ 1.8232, -1.2748, -0.2164,  1.0184, -2.8972,  1.7091, -0.4722,  1.5222,\n",
              "          1.2912, -0.0561]], grad_fn=<AddmmBackward0>)"
            ]
          },
          "execution_count": 47,
          "metadata": {},
          "output_type": "execute_result"
        }
      ],
      "source": [
        "Yhat=model(X)\n",
        "Yhat"
      ]
    },
    {
      "cell_type": "code",
      "execution_count": null,
      "metadata": {
        "id": "LtFLF4umkANc"
      },
      "outputs": [],
      "source": [
        "# Training"
      ]
    },
    {
      "cell_type": "code",
      "execution_count": null,
      "metadata": {
        "id": "oV1l7E6JkDll"
      },
      "outputs": [],
      "source": [
        "import torch\n",
        "import numpy as np\n",
        "import matplotlib.pyplot as plt\n",
        "from torch import nn,optim\n",
        "from mpl_toolkits.mplot3d import Axes3D\n",
        "from torch.utils.data import Dataset, DataLoader\n",
        "import torchvision.transforms as transforms"
      ]
    },
    {
      "cell_type": "code",
      "execution_count": null,
      "metadata": {
        "colab": {
          "base_uri": "https://localhost:8080/"
        },
        "id": "cxzP-CqukEsd",
        "outputId": "99789db4-5f32-4761-8ac8-e195eb5eadf0"
      },
      "outputs": [
        {
          "data": {
            "text/plain": [
              "<torch._C.Generator at 0x78c18afb0330>"
            ]
          },
          "execution_count": 49,
          "metadata": {},
          "output_type": "execute_result"
        }
      ],
      "source": [
        "torch.manual_seed(1)"
      ]
    },
    {
      "cell_type": "code",
      "execution_count": null,
      "metadata": {
        "id": "4n8-ZzgikH0v"
      },
      "outputs": [],
      "source": [
        "# Make Some Data\n",
        "# Create a dataset class with two-dimensional features and two targets:"
      ]
    },
    {
      "cell_type": "code",
      "execution_count": null,
      "metadata": {
        "id": "hyNxXXvbkLsf"
      },
      "outputs": [],
      "source": [
        "# Creates a 2D tensor self.x of size (20, 2) filled with zeros.\n",
        "# Populates the first column ([:,0]) of self.x with values from -1 to 1 with a step of 0.1 (20 evenly spaced values).\n",
        "# Similarly, populates the second column ([:,1]) with values from -1 to 1 with a step of 0.1.\n",
        "# Defines self.w as a weight tensor with the shape (2, 2). This represents the true weights for the linear relationship between the inputs and the target variable.\n",
        "# Defines self.b as a bias tensor with the shape (1, 2). This represents the true biases for the linear relationship.\n",
        "# Calculates the actual target values self.f by multiplying self.x with self.w and adding self.b.\n",
        "# Adds some noise to the target values by adding a small random number from a normal distribution (0.001*torch.randn((self.x.shape[0],1))). This simulates real-world data with some inherent noise.\n",
        "# Defines self.y as the final target tensor with noise added.\n",
        "# # Sets self.len to the number of data points (length of self.x).\n",
        "from torch.utils.data import Dataset, DataLoader\n",
        "class Data(Dataset):\n",
        "    def __init__(self):\n",
        "            self.x=torch.zeros(20,2)\n",
        "            self.x[:,0]=torch.arange(-1,1,0.1)\n",
        "            self.x[:,1]=torch.arange(-1,1,0.1)\n",
        "            self.w=torch.tensor([ [1.0,-1.0],[1.0,3.0]])\n",
        "            self.b=torch.tensor([[1.0,-1.0]])\n",
        "            self.f=torch.mm(self.x,self.w)+self.b\n",
        "\n",
        "            self.y=self.f+0.001*torch.randn((self.x.shape[0],1))\n",
        "            self.len=self.x.shape[0]\n",
        "# This function is called whenever you access an element of the dataset using indexing (e.g., data_set[index]).\n",
        "# It takes an index as input and returns a tuple containing the input features and the corresponding target value from the dataset.\n",
        "# In this case, it returns self.x[index] (features) and self.y[index] (target value) for the given index.\n",
        "    def __getitem__(self,index):\n",
        "\n",
        "        return self.x[index],self.y[index]\n",
        "# This function defines the length of the dataset.\n",
        "# It simply returns the value stored in self.len, which is the number of data points (20 in this case).\n",
        "    def __len__(self):\n",
        "        return self.len"
      ]
    },
    {
      "cell_type": "code",
      "execution_count": null,
      "metadata": {
        "id": "z0_KbJaJkPxa"
      },
      "outputs": [],
      "source": [
        "# create a dataset object\n",
        "data_set=Data()"
      ]
    },
    {
      "cell_type": "code",
      "execution_count": null,
      "metadata": {
        "id": "jG0vgzOFkTaZ"
      },
      "outputs": [],
      "source": [
        "# Create the Model, Optimizer, and Total Loss Function (cost)"
      ]
    },
    {
      "cell_type": "code",
      "execution_count": null,
      "metadata": {
        "id": "KyRa1oDhkUJp"
      },
      "outputs": [],
      "source": [
        "class linear_regression(nn.Module):\n",
        "    def __init__(self,input_size,output_size):\n",
        "        super(linear_regression,self).__init__()\n",
        "        self.linear=nn.Linear(input_size,output_size)\n",
        "# This function defines the forward pass of the model. It takes the input features x as input.\n",
        "# Performs a linear transformation on the input using the self.linear layer.\n",
        "# Returns the predicted target values (yhat) from the linear layer.\n",
        "    def forward(self,x):\n",
        "        yhat=self.linear(x)\n",
        "        return yhat"
      ]
    },
    {
      "cell_type": "code",
      "execution_count": null,
      "metadata": {
        "id": "c234g5irkWB2"
      },
      "outputs": [],
      "source": [
        "# Create an optimizer object and set the learning rate to 0.1"
      ]
    },
    {
      "cell_type": "code",
      "execution_count": null,
      "metadata": {
        "id": "MMbWecG-kYfm"
      },
      "outputs": [],
      "source": [
        "# nitializes the superclass (nn.Module).\n",
        "# Defines a linear layer self.linear using nn.Linear. It takes input_size (number of input features, 2 in this case) and output_size (number of output predictions, 2 in this case) as arguments.\n",
        "model=linear_regression(2,2)"
      ]
    },
    {
      "cell_type": "code",
      "execution_count": null,
      "metadata": {
        "id": "H-tOLE2DkdmJ"
      },
      "outputs": [],
      "source": [
        "optimizer = optim.SGD(model.parameters(), lr = 0.1)"
      ]
    },
    {
      "cell_type": "code",
      "execution_count": null,
      "metadata": {
        "id": "-dDJYbV7kgt8"
      },
      "outputs": [],
      "source": [
        "# Create the criterion function that calculates the total loss or cost:\n",
        "criterion = nn.MSELoss()"
      ]
    },
    {
      "cell_type": "code",
      "execution_count": null,
      "metadata": {
        "id": "b6fcKKqEkkfs"
      },
      "outputs": [],
      "source": [
        "# Create a data loader object and set the batch_size to 5:\n",
        "# Defines a DataLoader named train_loader.\n",
        "# It takes the data_set (your custom dataset) and a batch_size of 5 as arguments.\n",
        "# The DataLoader will shuffle the data (optional) and provide batches of data during training.\n",
        "train_loader=DataLoader(dataset=data_set,batch_size=5)"
      ]
    },
    {
      "cell_type": "code",
      "execution_count": null,
      "metadata": {
        "id": "wCSKmZZ_komr"
      },
      "outputs": [],
      "source": [
        "# Train the Model via Mini-Batch Gradient Descent"
      ]
    },
    {
      "cell_type": "code",
      "execution_count": null,
      "metadata": {
        "id": "rqMptqrok0rh"
      },
      "outputs": [],
      "source": [
        "# Run 100 epochs of Mini-Batch Gradient Descent and store the total loss or cost for every iteration. Remember that this is an approximation of the true total loss or cost."
      ]
    },
    {
      "cell_type": "code",
      "execution_count": null,
      "metadata": {
        "colab": {
          "background_save": true
        },
        "id": "0cSYue3Ek4MH"
      },
      "outputs": [],
      "source": [
        "LOSS=[]\n",
        "\n",
        "epochs=100\n",
        "\n",
        "for epoch in range(epochs):\n",
        "    for x,y in train_loader:\n",
        "        #make a prediction\n",
        "        yhat=model(x)\n",
        "        #calculate the loss\n",
        "        loss=criterion(yhat,y)\n",
        "        #store loss/cost\n",
        "        LOSS.append(loss.item())\n",
        "        #clear gradient\n",
        "        optimizer.zero_grad()\n",
        "        #Backward pass: compute gradient of the loss with respect to all the learnable parameters\n",
        "        loss.backward()\n",
        "        #the step function on an Optimizer makes an update to its parameters\n",
        "        optimizer.step()\n"
      ]
    },
    {
      "cell_type": "code",
      "execution_count": null,
      "metadata": {
        "colab": {
          "base_uri": "https://localhost:8080/",
          "height": 465
        },
        "id": "zICt5TLAk7Kl",
        "outputId": "b51dd9dd-78ef-4fab-9397-017a007a4786"
      },
      "outputs": [
        {
          "data": {
            "image/png": "[encoded data removed]",
            "text/plain": [
              "<Figure size 640x480 with 1 Axes>"
            ]
          },
          "metadata": {},
          "output_type": "display_data"
        }
      ],
      "source": [
        "# Plot the cost\n",
        "plt.plot(LOSS)\n",
        "plt.xlabel(\"iterations \")\n",
        "plt.ylabel(\"Cost/total loss \")\n",
        "plt.show()"
      ]
    }
  ],
  "metadata": {
    "colab": {
      "provenance": [],
      "authorship_tag": "ABX9TyNBfua8waKFTBopC70vlE9f",
      "include_colab_link": true
    },
    "kernelspec": {
      "display_name": "Python 3",
      "name": "python3"
    },
    "language_info": {
      "name": "python"
    }
  },
  "nbformat": 4,
  "nbformat_minor": 0
}